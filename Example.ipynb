{
 "cells": [
  {
   "cell_type": "markdown",
   "metadata": {},
   "source": [
    "# Create a Neural Net and train it on MNIST-Dataset"
   ]
  },
  {
   "cell_type": "markdown",
   "metadata": {},
   "source": [
    "In this example I show how to build a Neural-Net with my API and train it on the MNIST-Dataset "
   ]
  },
  {
   "cell_type": "markdown",
   "metadata": {},
   "source": [
    "## Imports"
   ]
  },
  {
   "cell_type": "markdown",
   "metadata": {},
   "source": [
    "First the Imports:\n",
    "We need numpy for preparing the data. For downloading the dataset i use tensorflow keras. I also import some functions i need and explain later"
   ]
  },
  {
   "cell_type": "code",
   "execution_count": 1,
   "metadata": {
    "scrolled": true
   },
   "outputs": [],
   "source": [
    "from main import Model                # the main class\n",
    "from optimizer import Adam            # the optimizer i will use for training\n",
    "import numpy as np\n",
    "import tensorflow.keras as keras      # just for downloading the dataset\n",
    "from EvaluationPlot import *          # some functions for plotting\n",
    "from helperfunctions import one_hot   # hot-encodes values"
   ]
  },
  {
   "cell_type": "markdown",
   "metadata": {},
   "source": [
    "## Preparing the Data for training"
   ]
  },
  {
   "cell_type": "markdown",
   "metadata": {},
   "source": [
    "Now download the MNIST-Dataset. Includes a training-set with 60.000 examples and a test-set with 10.000 examples."
   ]
  },
  {
   "cell_type": "code",
   "execution_count": 2,
   "metadata": {},
   "outputs": [],
   "source": [
    "(x_train, y_train), (x_test, y_test) = keras.datasets.mnist.load_data(path='mnist.npz')"
   ]
  },
  {
   "cell_type": "markdown",
   "metadata": {},
   "source": [
    "befor starting the training the Input-data (x_train, x_test) should be scaled between 0-1. At the moment it is scaled from 0-255, so i devide it by 255"
   ]
  },
  {
   "cell_type": "code",
   "execution_count": 3,
   "metadata": {},
   "outputs": [],
   "source": [
    "x_train = x_train / 255\n",
    "x_test = x_test / 255"
   ]
  },
  {
   "cell_type": "markdown",
   "metadata": {},
   "source": [
    "After that I reshape the Data for training. Because the Model expectet Examples with 3 dims. "
   ]
  },
  {
   "cell_type": "code",
   "execution_count": 4,
   "metadata": {},
   "outputs": [],
   "source": [
    "x_train = x_train.reshape(len(x_train), 1, 28, 28)\n",
    "x_test = x_test.reshape(len(x_test), 1, 28, 28)"
   ]
  },
  {
   "cell_type": "markdown",
   "metadata": {},
   "source": [
    "Now the input-data is ready for training. I can show some examples with a small function i have writen."
   ]
  },
  {
   "cell_type": "code",
   "execution_count": 5,
   "metadata": {},
   "outputs": [
    {
     "data": {
      "image/png": "[encoded data removed]",
      "text/plain": [
       "<Figure size 720x720 with 16 Axes>"
      ]
     },
     "metadata": {},
     "output_type": "display_data"
    }
   ],
   "source": [
    "show_images(x_train[:16])"
   ]
  },
  {
   "cell_type": "markdown",
   "metadata": {},
   "source": [
    "Because our Model will output a vector with a probability for every possible digit, we have to hot-encode the labels in y_train and y_test. For this i have the function 'one_hot'."
   ]
  },
  {
   "cell_type": "code",
   "execution_count": 6,
   "metadata": {},
   "outputs": [],
   "source": [
    "labels_train = y_train\n",
    "labels_test = y_test\n",
    "\n",
    "y_train = one_hot(y_train)\n",
    "y_test = one_hot(y_test)"
   ]
  },
  {
   "cell_type": "markdown",
   "metadata": {},
   "source": [
    "Now we have prepaired the Data and can start creating the Model"
   ]
  },
  {
   "cell_type": "markdown",
   "metadata": {},
   "source": [
    "## Creating the Model"
   ]
  },
  {
   "cell_type": "markdown",
   "metadata": {},
   "source": [
    "For creating a Model i use my Model class. I init a Model with the name 'example'. "
   ]
  },
  {
   "cell_type": "code",
   "execution_count": 7,
   "metadata": {},
   "outputs": [],
   "source": [
    "nn = Model(model_name='example')"
   ]
  },
  {
   "cell_type": "markdown",
   "metadata": {},
   "source": [
    "Next we define the architecture for the model. The compile function of Model takes a list. For every layer we want to have in the Model we create a dictionary with the type of layer we want to use and the specific hyperparameter."
   ]
  },
  {
   "cell_type": "markdown",
   "metadata": {},
   "source": [
    "For this example a created a architecture with 7 Layer. Every Layer exept the last one works BatchNorm the Relu-activationfunction and a 20% Dropout. I don't use a bias, because it would be canceled out in the BatchNorm. The alpha value in BatchNorm defines the degree of weighting decrease on the moving mean and var."
   ]
  },
  {
   "cell_type": "code",
   "execution_count": null,
   "metadata": {},
   "outputs": [],
   "source": [
    "The first layer (in our case the 'Flatten' layer) must have a input_shape. Every next Layer take the output shape of the layer before as an input-shape."
   ]
  },
  {
   "cell_type": "code",
   "execution_count": 8,
   "metadata": {},
   "outputs": [],
   "source": [
    "architecture = [\n",
    "        {\"layer_type\": \"Flatten\", 'input_shape': (1, 28, 28)},\n",
    "\n",
    "        {\"layer_type\": \"Dense\", \"neurons\": 128, \"use_bias\": False},         \n",
    "        {\"layer_type\": \"BatchNorm\", 'alpha': 0.99},                         \n",
    "        {\"layer_type\": \"Activation\", \"activation\": 'relu'},\n",
    "        {\"layer_type\": \"Dropout\", \"ratio\": .2},\n",
    "\n",
    "        {\"layer_type\": \"Dense\", \"neurons\": 128, \"use_bias\": False},         \n",
    "        {\"layer_type\": \"BatchNorm\", 'alpha': 0.99},                         \n",
    "        {\"layer_type\": \"Activation\", \"activation\": 'relu'},\n",
    "        {\"layer_type\": \"Dropout\", \"ratio\": .2},\n",
    "\n",
    "        {\"layer_type\": \"Dense\", \"neurons\": 64, \"use_bias\": False},          \n",
    "        {\"layer_type\": \"BatchNorm\", 'alpha': 0.99},                         \n",
    "        {\"layer_type\": \"Activation\", \"activation\": 'relu'},\n",
    "        {\"layer_type\": \"Dropout\", \"ratio\": .2},\n",
    "\n",
    "        {\"layer_type\": \"Dense\",  \"neurons\": 64, \"use_bias\": False},         \n",
    "        {\"layer_type\": \"BatchNorm\", 'alpha': 0.99},                         \n",
    "        {\"layer_type\": \"Activation\", \"activation\": 'relu'},\n",
    "        {\"layer_type\": \"Dropout\", \"ratio\": .2},\n",
    "\n",
    "        {\"layer_type\": \"Dense\", \"neurons\": 32, \"use_bias\": False},          \n",
    "        {\"layer_type\": \"BatchNorm\", 'alpha': 0.98},                         \n",
    "        {\"layer_type\": \"Activation\", \"activation\": 'relu'},\n",
    "        {\"layer_type\": \"Dropout\", \"ratio\": .2},\n",
    "\n",
    "        {\"layer_type\": \"Dense\", \"neurons\": 32, \"use_bias\": False},          \n",
    "        {\"layer_type\": \"BatchNorm\", 'alpha': 0.98},                         \n",
    "        {\"layer_type\": \"Activation\", \"activation\": 'relu'},\n",
    "        {\"layer_type\": \"Dropout\", \"ratio\": .2},\n",
    "\n",
    "        {\"layer_type\": \"Dense\", \"neurons\": 10}\n",
    "    ]\n"
   ]
  },
  {
   "cell_type": "markdown",
   "metadata": {},
   "source": [
    "For training the Model i use a Adam optimizer with a learning-rate of 0.1"
   ]
  },
  {
   "cell_type": "code",
   "execution_count": 9,
   "metadata": {},
   "outputs": [],
   "source": [
    "optimizer = Adam(lr=.1)"
   ]
  },
  {
   "cell_type": "markdown",
   "metadata": {},
   "source": [
    "Now we can compile the model "
   ]
  },
  {
   "cell_type": "markdown",
   "metadata": {},
   "source": [
    "As loss function i use categorical crossentropy aka Softmax-loss."
   ]
  },
  {
   "cell_type": "code",
   "execution_count": 10,
   "metadata": {},
   "outputs": [],
   "source": [
    "nn.compile(architecture, loss='categorical_crossentropy', optimizer=optimizer)"
   ]
  },
  {
   "cell_type": "markdown",
   "metadata": {},
   "source": [
    "Before we start to training the model we can print out a summary of our Model with the 'summary'-function."
   ]
  },
  {
   "cell_type": "code",
   "execution_count": 11,
   "metadata": {},
   "outputs": [
    {
     "name": "stdout",
     "output_type": "stream",
     "text": [
      "example summary:\n",
      "layer-type                input_shape    output_shape    neurons    trainable-params    activation-function\n",
      "------------------------  -------------  --------------  ---------  ------------------  ---------------------\n",
      "Flatten                   (1, 28, 28)    (784,)          0          0                   -\n",
      "Dense                     (784,)         128             128        100480              -\n",
      "BatchNormalization        128            128             0          256                 -\n",
      "Activation                128            128             0          0                   relu\n",
      "Dropout                   128            128             0          0                   -\n",
      "Dense                     128            128             128        16512               -\n",
      "BatchNormalization        128            128             0          256                 -\n",
      "Activation                128            128             0          0                   relu\n",
      "Dropout                   128            128             0          0                   -\n",
      "Dense                     128            64              64         8256                -\n",
      "BatchNormalization        64             64              0          128                 -\n",
      "Activation                64             64              0          0                   relu\n",
      "Dropout                   64             64              0          0                   -\n",
      "Dense                     64             64              64         4160                -\n",
      "BatchNormalization        64             64              0          128                 -\n",
      "Activation                64             64              0          0                   relu\n",
      "Dropout                   64             64              0          0                   -\n",
      "Dense                     64             32              32         2080                -\n",
      "BatchNormalization        32             32              0          64                  -\n",
      "Activation                32             32              0          0                   relu\n",
      "Dropout                   32             32              0          0                   -\n",
      "Dense                     32             32              32         1056                -\n",
      "BatchNormalization        32             32              0          64                  -\n",
      "Activation                32             32              0          0                   relu\n",
      "Dropout                   32             32              0          0                   -\n",
      "Dense                     32             10              10         330                 -\n",
      "------------------------  -------------  --------------  ---------  ------------------  ---------------------\n",
      "total:                    (1, 28, 28)    10              458        133770              -\n",
      "\n",
      "lossfunction: categorical_crossentropy       optimizer: Adam\n",
      "\n",
      "\n"
     ]
    }
   ],
   "source": [
    "nn.summary()"
   ]
  },
  {
   "cell_type": "markdown",
   "metadata": {},
   "source": [
    "## Train the Model"
   ]
  },
  {
   "cell_type": "markdown",
   "metadata": {},
   "source": [
    "Now we can train the model. We use the x- and y-train as trainingsset and the x-and y-test as test set. As size of the mini-batch a took 128, which work well on my previos trainings. After every epoch the trainingsset gets shuffled  ('shuffle=True'). So we don't train on the same mini-batch twice."
   ]
  },
  {
   "cell_type": "markdown",
   "metadata": {},
   "source": [
    "With the 'policy' parameter i can the define a policy for the training. The training-function basically saves after every epoch. With this parameters i define when to load a old snapshot. The options are:  \n",
    "'acc' load when acc is lower then last epoch  \n",
    "'loss' load when loss is lower then last epoch  \n",
    "'one' load when loss or acc is lower then last epoch  \n",
    "'both' load when loss and acc is lower then last epoch  \n",
    "'none' don't load at any time (default)  "
   ]
  },
  {
   "cell_type": "markdown",
   "metadata": {},
   "source": [
    "The trainingsprocess is shown with a processbar and a estimate time till the epoch is finished. After every epoch the 'train'-functions tests the model on the test data. The result loss an d accuracy is printed out."
   ]
  },
  {
   "cell_type": "code",
   "execution_count": 12,
   "metadata": {},
   "outputs": [
    {
     "name": "stdout",
     "output_type": "stream",
     "text": [
      "start training [epochs: 1, batchsize: 128, shuffle: True, policy: acc]\n",
      "epoch 1 / 1: [>>>>>>>>>>>>>>>>>>>>>>>>>>>>>>>>>>>>>>>>>>>>>>>>>>] 469 of 469 batches trained (0h 0min 0sec)) \n",
      "epoch 1: loss: 1.3594448271606983 acc: 0.9151\n",
      " \n",
      "training finished in 0h 0min 35sec.\n",
      "loss: 1.3594448271606983 accuracy: 0.9151\n"
     ]
    }
   ],
   "source": [
    "loss, acc = nn.train(x_train, y_train, batchsize=128, epochs=1, shuffle=True, x_test=x_test, y_test=y_test, policy='acc')"
   ]
  },
  {
   "cell_type": "markdown",
   "metadata": {},
   "source": [
    "After finish the training. We can plot the trainingsprocess. For this i wrote a function 'plot_trainingsprocess'. As Input of this function we take the list of loss and acc we get from the 'train'-function."
   ]
  },
  {
   "cell_type": "code",
   "execution_count": 13,
   "metadata": {},
   "outputs": [
    {
     "data": {
      "image/png": "[encoded data removed]",
      "text/plain": [
       "<Figure size 1200x800 with 2 Axes>"
      ]
     },
     "metadata": {
      "needs_background": "light"
     },
     "output_type": "display_data"
    }
   ],
   "source": [
    "plot_trainingsprocess(loss, acc, name=nn.model_name, save=True)"
   ]
  },
  {
   "cell_type": "markdown",
   "metadata": {},
   "source": [
    "## Predict some Data"
   ]
  },
  {
   "cell_type": "markdown",
   "metadata": {},
   "source": [
    "After training a Model. We can now predict some Data. For this a Model class has the 'predict' function. With the 'return_probability' parameter it also returns a probability for every class."
   ]
  },
  {
   "cell_type": "code",
   "execution_count": 14,
   "metadata": {},
   "outputs": [],
   "source": [
    "pred, prob = nn.predict(x_test, return_probability=True)"
   ]
  },
  {
   "cell_type": "markdown",
   "metadata": {},
   "source": [
    "We can show this with an other function i wrote. "
   ]
  },
  {
   "cell_type": "code",
   "execution_count": 15,
   "metadata": {
    "scrolled": false
   },
   "outputs": [
    {
     "data": {
      "image/png": "[encoded data removed]",
      "text/plain": [
       "<Figure size 1200x800 with 16 Axes>"
      ]
     },
     "metadata": {
      "needs_background": "light"
     },
     "output_type": "display_data"
    }
   ],
   "source": [
    "nr = 2000\n",
    "showImagesWithProbabilities(images=x_test[nr:nr+16], probs=prob[nr:nr+16], labels=labels_test[nr:nr+16])"
   ]
  },
  {
   "cell_type": "code",
   "execution_count": null,
   "metadata": {},
   "outputs": [],
   "source": []
  }
 ],
 "metadata": {
  "kernelspec": {
   "display_name": "Python 3",
   "language": "python",
   "name": "python3"
  },
  "language_info": {
   "codemirror_mode": {
    "name": "ipython",
    "version": 3
   },
   "file_extension": ".py",
   "mimetype": "text/x-python",
   "name": "python",
   "nbconvert_exporter": "python",
   "pygments_lexer": "ipython3",
   "version": "3.7.4"
  }
 },
 "nbformat": 4,
 "nbformat_minor": 2
}
